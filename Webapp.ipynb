{
 "cells": [
  {
   "cell_type": "code",
   "execution_count": 2,
   "id": "f52809e0-39fa-455b-98d2-4ce0f8e350ee",
   "metadata": {},
   "outputs": [],
   "source": [
    "import pandas as pd\n",
    "import plotly.express as px  # (version 4.7.0 or higher)\n",
    "import plotly.graph_objects as go\n",
    "from dash import Dash, dcc, html, Input, Output  # pip install dash (version 2.0.0 or higher)"
   ]
  },
  {
   "cell_type": "code",
   "execution_count": 17,
   "id": "6586c587-3f21-43bc-9c4a-689ee28506d6",
   "metadata": {},
   "outputs": [
    {
     "name": "stdout",
     "output_type": "stream",
     "text": [
      "Index(['value', 'x', 'y'], dtype='object')\n",
      "       long     lat  elevation\n",
      "0 -9.888000  43.999      -4726\n",
      "1 -9.885639  43.999      -4717\n",
      "2 -9.883279  43.999      -4708\n",
      "3 -9.880918  43.999      -4699\n",
      "4 -9.878557  43.999      -4690\n"
     ]
    }
   ],
   "source": [
    "# app = Dash(__name__)\n",
    "\n",
    "# -- Import and clean data (importing csv into pandas)\n",
    "# df = pd.read_csv(\"intro_bees.csv\")\n",
    "df = pd.read_csv(\"/Users/luismoreira/Desktop/Final_project/final_project/topo.csv\")\n",
    "\n",
    "# cleaning data\n",
    "df.drop(['Unnamed: 0', 'row', 'col'], axis = 1, inplace=True)\n",
    "print(df.columns)\n",
    "df = df[['x','y','value']]\n",
    "df.columns = ['long', 'lat', 'elevation']\n",
    "#df = df.groupby(['State', 'ANSI', 'Affected by', 'Year', 'state_code'])[['Pct of Colonies Impacted']].mean()\n",
    "# df.reset_index(inplace=True)\n",
    "print(df[:5])"
   ]
  },
  {
   "cell_type": "code",
   "execution_count": null,
   "id": "f9f67355-775c-4d01-8464-3cf0a2aa0f7e",
   "metadata": {},
   "outputs": [],
   "source": [
    "app.layout = html.Div([\n",
    "    \n",
    "    html.H1(\"Solar Study\", style)"
   ]
  },
  {
   "cell_type": "code",
   "execution_count": null,
   "id": "34504444-2524-4605-8b36-340d897f5517",
   "metadata": {},
   "outputs": [],
   "source": []
  }
 ],
 "metadata": {
  "kernelspec": {
   "display_name": "Python 3",
   "language": "python",
   "name": "python3"
  },
  "language_info": {
   "codemirror_mode": {
    "name": "ipython",
    "version": 3
   },
   "file_extension": ".py",
   "mimetype": "text/x-python",
   "name": "python",
   "nbconvert_exporter": "python",
   "pygments_lexer": "ipython3",
   "version": "3.8.8"
  }
 },
 "nbformat": 4,
 "nbformat_minor": 5
}
