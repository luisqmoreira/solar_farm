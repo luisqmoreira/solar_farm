{
 "cells": [
  {
   "cell_type": "code",
   "execution_count": 1,
   "id": "30f7589a-278d-4689-9bc7-7d80c82fae53",
   "metadata": {},
   "outputs": [],
   "source": [
    "import pandas as pd\n",
    "from geopy.geocoders import Nominatim\n",
    "from geopy.extra.rate_limiter import RateLimiter"
   ]
  },
  {
   "cell_type": "code",
   "execution_count": 2,
   "id": "700a2d52-29fa-4732-b835-ce72fba3f727",
   "metadata": {},
   "outputs": [],
   "source": [
    "dif = pd.read_csv('/Users/luismoreira/Desktop/Final_project/Databases/dif.csv')\n",
    "dni = pd.read_csv('/Users/luismoreira/Desktop/Final_project/Databases/dni.csv')\n",
    "ghi = pd.read_csv('/Users/luismoreira/Desktop/Final_project/Databases/ghi.csv')\n",
    "gti = pd.read_csv('/Users/luismoreira/Desktop/Final_project/Databases/gti.csv')\n",
    "opta = pd.read_csv('/Users/luismoreira/Desktop/Final_project/Databases/opta.csv')"
   ]
  },
  {
   "cell_type": "code",
   "execution_count": 3,
   "id": "a621a66b-75fc-42a5-95f8-098210e7dd63",
   "metadata": {},
   "outputs": [
    {
     "name": "stdout",
     "output_type": "stream",
     "text": [
      "(1812133, 5)\n",
      "(1812133, 5)\n",
      "(1812133, 5)\n",
      "(1812133, 5)\n",
      "(10453, 5)\n"
     ]
    }
   ],
   "source": [
    "#def join_tables(df):\n",
    "    \n",
    "print(dif.shape)\n",
    "print(dni.shape)\n",
    "print(ghi.shape)\n",
    "print(gti.shape)\n",
    "print(opta.shape)"
   ]
  },
  {
   "cell_type": "code",
   "execution_count": 4,
   "id": "a36cf068-b8fc-4256-8914-7f917abfc547",
   "metadata": {},
   "outputs": [],
   "source": [
    "def drop_col(df):\n",
    "    \n",
    "    df = df.drop(['Unnamed: 0', 'index'], axis=1)\n",
    "    return df"
   ]
  },
  {
   "cell_type": "code",
   "execution_count": 5,
   "id": "aa016ca7-de22-40f0-b74d-3869da0b9b66",
   "metadata": {},
   "outputs": [],
   "source": [
    "dif = drop_col(dif)\n",
    "dni = drop_col(dni)\n",
    "ghi = drop_col(ghi)\n",
    "gti = drop_col(gti)"
   ]
  },
  {
   "cell_type": "code",
   "execution_count": 6,
   "id": "6d167101-4805-4699-899f-b5c15ab95ea7",
   "metadata": {},
   "outputs": [
    {
     "name": "stdout",
     "output_type": "stream",
     "text": [
      "     long     lat      DIF\n",
      "0 -8.2050  42.235  578.191\n",
      "1 -8.2025  42.235  582.939\n",
      "2 -8.2000  42.235  584.765\n",
      "3 -8.1975  42.235  584.035\n",
      "4 -8.1950  42.235  574.904\n",
      "     long     lat       DNI\n",
      "0 -8.2050  42.235  1482.185\n",
      "1 -8.2025  42.235  1490.585\n",
      "2 -8.2000  42.235  1487.298\n",
      "3 -8.1975  42.235  1469.766\n",
      "4 -8.1950  42.235  1397.446\n",
      "     long     lat       GHI\n",
      "0 -8.2050  42.235  1453.330\n",
      "1 -8.2025  42.235  1459.174\n",
      "2 -8.2000  42.235  1459.539\n",
      "3 -8.1975  42.235  1454.791\n",
      "4 -8.1950  42.235  1427.397\n",
      "     long     lat       GTI\n",
      "0 -8.2050  42.235  1688.186\n",
      "1 -8.2025  42.235  1688.916\n",
      "2 -8.2000  42.235  1687.455\n",
      "3 -8.1975  42.235  1684.898\n",
      "4 -8.1950  42.235  1660.426\n"
     ]
    }
   ],
   "source": [
    "print(dif.head())\n",
    "print(dni.head())\n",
    "print(ghi.head())\n",
    "print(gti.head())\n"
   ]
  },
  {
   "cell_type": "code",
   "execution_count": 7,
   "id": "eaf960a6-4605-445a-b5b9-6e39c4682616",
   "metadata": {},
   "outputs": [],
   "source": [
    "\n",
    "def merge_4_df(df1,df2,df3,df4):\n",
    "    \n",
    "    a = pd.merge(left=df1,right=df2, left_index=True, right_index=True)\n",
    "    b = pd.merge(left=a,right=df3, left_index=True, right_index=True)\n",
    "    c = pd.merge(left=b,right=df4, left_index=True, right_index=True)\n",
    "    \n",
    "    return c"
   ]
  },
  {
   "cell_type": "code",
   "execution_count": 8,
   "id": "b17d466f-ba67-463d-9499-2272e5286683",
   "metadata": {},
   "outputs": [
    {
     "name": "stderr",
     "output_type": "stream",
     "text": [
      "/var/folders/mg/hz10g1l14916bvkqvy7r1fg40000gn/T/ipykernel_64961/1693675010.py:5: FutureWarning: Passing 'suffixes' which cause duplicate columns {'long_x', 'lat_x'} in the result is deprecated and will raise a MergeError in a future version.\n",
      "  c = pd.merge(left=b,right=df4, left_index=True, right_index=True)\n"
     ]
    },
    {
     "data": {
      "text/plain": [
       "Index(['long_x', 'lat_x', 'DIF', 'long_y', 'lat_y', 'DNI', 'long_x', 'lat_x',\n",
       "       'GHI', 'long_y', 'lat_y', 'GTI'],\n",
       "      dtype='object')"
      ]
     },
     "execution_count": 8,
     "metadata": {},
     "output_type": "execute_result"
    }
   ],
   "source": [
    "joined_features = merge_4_df(dif,dni,ghi,gti)\n",
    "joined_features.columns"
   ]
  },
  {
   "cell_type": "code",
   "execution_count": 9,
   "id": "fbebb1d5-0ea6-428c-909b-21193fc531b3",
   "metadata": {},
   "outputs": [
    {
     "data": {
      "text/html": [
       "<div>\n",
       "<style scoped>\n",
       "    .dataframe tbody tr th:only-of-type {\n",
       "        vertical-align: middle;\n",
       "    }\n",
       "\n",
       "    .dataframe tbody tr th {\n",
       "        vertical-align: top;\n",
       "    }\n",
       "\n",
       "    .dataframe thead th {\n",
       "        text-align: right;\n",
       "    }\n",
       "</style>\n",
       "<table border=\"1\" class=\"dataframe\">\n",
       "  <thead>\n",
       "    <tr style=\"text-align: right;\">\n",
       "      <th></th>\n",
       "      <th>long</th>\n",
       "      <th>lat</th>\n",
       "      <th>DIF</th>\n",
       "      <th>DNI</th>\n",
       "      <th>GHI</th>\n",
       "      <th>GTI</th>\n",
       "    </tr>\n",
       "  </thead>\n",
       "  <tbody>\n",
       "    <tr>\n",
       "      <th>0</th>\n",
       "      <td>-8.2050</td>\n",
       "      <td>42.235</td>\n",
       "      <td>578.191</td>\n",
       "      <td>1482.185</td>\n",
       "      <td>1453.330</td>\n",
       "      <td>1688.186</td>\n",
       "    </tr>\n",
       "    <tr>\n",
       "      <th>1</th>\n",
       "      <td>-8.2025</td>\n",
       "      <td>42.235</td>\n",
       "      <td>582.939</td>\n",
       "      <td>1490.585</td>\n",
       "      <td>1459.174</td>\n",
       "      <td>1688.916</td>\n",
       "    </tr>\n",
       "    <tr>\n",
       "      <th>2</th>\n",
       "      <td>-8.2000</td>\n",
       "      <td>42.235</td>\n",
       "      <td>584.765</td>\n",
       "      <td>1487.298</td>\n",
       "      <td>1459.539</td>\n",
       "      <td>1687.455</td>\n",
       "    </tr>\n",
       "    <tr>\n",
       "      <th>3</th>\n",
       "      <td>-8.1975</td>\n",
       "      <td>42.235</td>\n",
       "      <td>584.035</td>\n",
       "      <td>1469.766</td>\n",
       "      <td>1454.791</td>\n",
       "      <td>1684.898</td>\n",
       "    </tr>\n",
       "    <tr>\n",
       "      <th>4</th>\n",
       "      <td>-8.1950</td>\n",
       "      <td>42.235</td>\n",
       "      <td>574.904</td>\n",
       "      <td>1397.446</td>\n",
       "      <td>1427.397</td>\n",
       "      <td>1660.426</td>\n",
       "    </tr>\n",
       "  </tbody>\n",
       "</table>\n",
       "</div>"
      ],
      "text/plain": [
       "     long     lat      DIF       DNI       GHI       GTI\n",
       "0 -8.2050  42.235  578.191  1482.185  1453.330  1688.186\n",
       "1 -8.2025  42.235  582.939  1490.585  1459.174  1688.916\n",
       "2 -8.2000  42.235  584.765  1487.298  1459.539  1687.455\n",
       "3 -8.1975  42.235  584.035  1469.766  1454.791  1684.898\n",
       "4 -8.1950  42.235  574.904  1397.446  1427.397  1660.426"
      ]
     },
     "execution_count": 9,
     "metadata": {},
     "output_type": "execute_result"
    }
   ],
   "source": [
    "joined_features.columns = ['long', 'lat', 'DIF', 'long_y', 'lat_y', 'DNI', 'long_x', 'lat_x','GHI', 'long_y', 'lat_y', 'GTI']\n",
    "joined_features = joined_features.drop(['long_y', 'lat_y', 'long_x', 'lat_x','long_y', 'lat_y'], axis=1)\n",
    "joined_features.head()"
   ]
  },
  {
   "cell_type": "code",
   "execution_count": 11,
   "id": "6eaffafc-91b3-44e6-91c9-ea554a1e30b4",
   "metadata": {},
   "outputs": [],
   "source": [
    "# joined_features.to_csv('additional_features.csv')\n",
    "\n"
   ]
  },
  {
   "cell_type": "code",
   "execution_count": null,
   "id": "24632443-9096-47fa-94e9-62aeb06ef0c7",
   "metadata": {},
   "outputs": [],
   "source": [
    "\"\"\"\n",
    "locator = Nominatim(user_agent=\"myGeocoder\", timeout=20)\n",
    "rgeocode = RateLimiter(locator.reverse, min_delay_seconds=0.001)\n",
    "\n",
    "def add_address(df):\n",
    "    \n",
    "    df['coordinates'] = df['lat'].map(str) + ',' + df['long'].map(str)\n",
    "    \n",
    "    df['Address'] = df['coordinates'].apply(rgeocode)\n",
    "    \n",
    "    return df\n",
    "\"\"\""
   ]
  },
  {
   "cell_type": "code",
   "execution_count": null,
   "id": "6180d5c0-467c-4432-a524-de643eac4eef",
   "metadata": {},
   "outputs": [],
   "source": [
    "joined_address = add_address(joined_features)"
   ]
  },
  {
   "cell_type": "code",
   "execution_count": null,
   "id": "312f31d1-8cc7-4406-a8cb-2b84761eab2c",
   "metadata": {},
   "outputs": [],
   "source": []
  }
 ],
 "metadata": {
  "kernelspec": {
   "display_name": "Python 3 (ipykernel)",
   "language": "python",
   "name": "python3"
  },
  "language_info": {
   "codemirror_mode": {
    "name": "ipython",
    "version": 3
   },
   "file_extension": ".py",
   "mimetype": "text/x-python",
   "name": "python",
   "nbconvert_exporter": "python",
   "pygments_lexer": "ipython3",
   "version": "3.9.7"
  }
 },
 "nbformat": 4,
 "nbformat_minor": 5
}
